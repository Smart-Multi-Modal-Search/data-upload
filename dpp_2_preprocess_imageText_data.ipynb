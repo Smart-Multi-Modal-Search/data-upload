{
 "cells": [
  {
   "cell_type": "markdown",
   "id": "78b26f7b-fa54-42ed-aa21-20d5d0b9b53f",
   "metadata": {},
   "source": [
    "This notebook downloads amazon review datasets,  pre-processes the data and stores the reuqired data (the fields we will be using) in pickle format.\n",
    "\n",
    "datasets used:  http://deepyeti.ucsd.edu/jianmo/amazon/index.html\n",
    "\n"
   ]
  },
  {
   "cell_type": "code",
   "execution_count": 1,
   "id": "9e259cf2-55fc-41c2-87da-5bba1a940a86",
   "metadata": {},
   "outputs": [],
   "source": [
    "import pandas as pd\n",
    "import gzip\n",
    "import json\n",
    "import pickle"
   ]
  },
  {
   "cell_type": "code",
   "execution_count": 6,
   "id": "2ddc57a7-8d41-446d-bbfb-53743b9402eb",
   "metadata": {},
   "outputs": [
    {
     "data": {
      "text/plain": [
       "'/home/sridiyer/raw_data'"
      ]
     },
     "execution_count": 6,
     "metadata": {},
     "output_type": "execute_result"
    }
   ],
   "source": [
    "pwd"
   ]
  },
  {
   "cell_type": "code",
   "execution_count": 19,
   "id": "a2510923-450a-450b-b8b3-54b398be5ef0",
   "metadata": {
    "tags": []
   },
   "outputs": [
    {
     "name": "stdout",
     "output_type": "stream",
     "text": [
      "6797\n",
      " num products in the processed    6797\n"
     ]
    }
   ],
   "source": [
    "# process product meta data and store it in a list of python dictionary\n",
    "# we can use the dictionary for loading direct into weaviate\n",
    "# (i.e., no need to use pandas dataframe - covert to dictionary later)\n",
    "count = 0\n",
    "prod_meta_data_list = [] # list of dictionaries (each dict - product meta data)\n",
    "new_count = 0\n",
    "\n",
    "with gzip.open('meta_AMAZON_FASHION.json.gz') as f:\n",
    "    for l in f:\n",
    "        # load each line in the input file\n",
    "        \n",
    "        row = json.loads(l.strip())\n",
    "        count += 1\n",
    "        #print (row)\n",
    "        #break\n",
    "        if not ('description' in row):\n",
    "            continue\n",
    "        if not ('brand' in row):\n",
    "            continue\n",
    "        if not('feature' in row):\n",
    "            continue\n",
    "        if not ('title'in row ):\n",
    "            continue\n",
    "        if not isinstance (row['asin'], str):\n",
    "            continue\n",
    "        if not ('imageURLHighRes' in row):\n",
    "            continue\n",
    "            \n",
    "        url_list = row['imageURLHighRes']\n",
    "        if url_list:\n",
    "            prod_url = url_list[0]\n",
    "        else:\n",
    "            prod_url = 'ZZZ'\n",
    "        new_count  += 1\n",
    "        \n",
    "        prod_meta_dict = {\n",
    "            'asin' : row['asin'],\n",
    "            'title' : row ['title'],\n",
    "            'description' : row ['description'][0],\n",
    "            'brand' : row ['brand'],\n",
    "            'feature' :  row ['feature'][0],\n",
    "            'imgUrl' : prod_url\n",
    "          }    \n",
    "        prod_meta_data_list.append(prod_meta_dict)\n",
    "        \n",
    "\n",
    "print (new_count)\n",
    "print (' num products in the processed   ', len(prod_meta_data_list))\n",
    "    "
   ]
  },
  {
   "cell_type": "code",
   "execution_count": 20,
   "id": "44de2d43-7a14-4fbc-a9d8-acb6867f1c56",
   "metadata": {},
   "outputs": [],
   "source": [
    "# save data in a picke file\n",
    "\n",
    "prod_meta_fn = 'proc_fashion_meta_data_june9.pkl'\n",
    "\n",
    "with open(prod_meta_fn, 'wb') as fhandle:\n",
    "    pickle.dump(prod_meta_data_list, fhandle, protocol=pickle.HIGHEST_PROTOCOL)"
   ]
  },
  {
   "cell_type": "code",
   "execution_count": 21,
   "id": "e371cfa9-2248-4220-aedd-b77b02c6690e",
   "metadata": {},
   "outputs": [
    {
     "name": "stdout",
     "output_type": "stream",
     "text": [
      " num reviews in the processed data   881898\n"
     ]
    }
   ],
   "source": [
    "prod_review_list = []\n",
    "count = 0\n",
    "with gzip.open('AMAZON_FASHION.json.gz') as fp:\n",
    "    for lp in fp:\n",
    "        row = json.loads(lp.strip())\n",
    "\n",
    "        if ('summary' not in row.keys()) or ('reviewText' not in row.keys()):\n",
    "            continue \n",
    "        if (row['reviewText'] ==\"\") or (row['reviewText'] ==\" \"):\n",
    "            continue\n",
    "        if (row['summary'] ==\"\") or (row['summary'] ==\" \"):\n",
    "            continue\n",
    "        if (row['reviewerID'] ==\"\") or (row['reviewerID'] ==\" \"):\n",
    "            continue\n",
    "        if not isinstance (row['asin'], str):\n",
    "            continue\n",
    "        try:\n",
    "            r_overall = float(row['overall'])\n",
    "        except ValueError:\n",
    "            continue\n",
    "            \n",
    "        review_object = {\n",
    "            'reviewText' : row['reviewText'].replace(\"\\n\", \" \").replace(\"\\t\",\" \"),\n",
    "            'summary' : row ['summary'],\n",
    "            'overall' : r_overall,\n",
    "            'reviewerid' : row ['reviewerID'],\n",
    "            'reviwerName' : row.get('reviewerName', 'GENERIC'),\n",
    "            'productasin' : row['asin']\n",
    "          }  \n",
    "        \n",
    "        prod_review_list.append(review_object)\n",
    "    \n",
    "print (' num reviews in the processed data  ', len(prod_review_list))\n",
    " \n"
   ]
  },
  {
   "cell_type": "code",
   "execution_count": null,
   "id": "85479605-25f0-4c52-9003-79918b787dcf",
   "metadata": {},
   "outputs": [],
   "source": [
    "import _pickle as cPickle"
   ]
  },
  {
   "cell_type": "code",
   "execution_count": null,
   "id": "f9e72902-fc41-467f-8456-b8df5f3b4e0b",
   "metadata": {},
   "outputs": [],
   "source": [
    "import _pickle as pickle\n",
    "#import cPickle as pickle\n",
    "prod_review_fn = 'proc_fashion_review_data_june9.pkl'\n",
    "p = pickle.Pickler(open(prod_review_fn,\"wb\")) \n",
    "p.fast = True \n",
    "p.dump(prod_review_list) "
   ]
  },
  {
   "cell_type": "code",
   "execution_count": 22,
   "id": "05dc40e5-d835-481c-beca-132c4a3c03b9",
   "metadata": {},
   "outputs": [],
   "source": [
    "\n",
    "prod_review_fn = 'proc_fashion_review_data_june9.pkl'\n",
    "\n",
    "with open(prod_review_fn, 'wb') as fh:\n",
    "    pickle.dump(prod_review_list, fh)"
   ]
  },
  {
   "cell_type": "code",
   "execution_count": 23,
   "id": "8651e6d3-4ae6-4cff-ad04-628034f34e0c",
   "metadata": {},
   "outputs": [
    {
     "name": "stdout",
     "output_type": "stream",
     "text": [
      "3_extract_ProdBrandCat_data.ipynb\n",
      "4_train_NER_model.ipynb\n",
      "5_deploy_trained_NER_model.ipynb\n",
      "\u001b[0m\u001b[01;31mAMAZON_FASHION.json.gz\u001b[0m\n",
      "\u001b[01;31mAppliances.json.gz\u001b[0m\n",
      "\u001b[01;31mBooks.json.gz\u001b[0m\n",
      "\u001b[01;31mElectronics.json.gz\u001b[0m\n",
      "\u001b[01;31mLuxury_Beauty.json.gz\u001b[0m\n",
      "\u001b[01;31mMovies_and_TV.json.gz\u001b[0m\n",
      "dpp_1_preprocess_data.ipynb\n",
      "dpp_2_preprocess_imageText_data.ipynb\n",
      "dwl_1_load_into_weeavite.ipynb\n",
      "dwl_2_ld_images_into_weeavite.ipynb\n",
      "\u001b[01;34menv\u001b[0m/\n",
      "\u001b[01;34mgcp_config\u001b[0m/\n",
      "\u001b[01;34mimagesDir\u001b[0m/\n",
      "\u001b[01;31mmeta_AMAZON_FASHION.json.gz\u001b[0m\n",
      "\u001b[01;31mmeta_Appliances.json.gz\u001b[0m\n",
      "\u001b[01;31mmeta_Books.json.gz\u001b[0m\n",
      "\u001b[01;31mmeta_Electronics.json.gz\u001b[0m\n",
      "\u001b[01;31mmeta_Luxury_Beauty.json.gz\u001b[0m\n",
      "\u001b[01;31mmeta_Movies_and_TV.json.gz\u001b[0m\n",
      "notebooks.gzip\n",
      "proc_fashion_meta_data_june9.pkl\n",
      "proc_fashion_review_data_june9.pkl\n",
      "proc_prod_meta_data_june9_book.pkl\n",
      "proc_prod_meta_data_may22.pkl\n",
      "proc_prod_meta_data_may24_Movies_and_TV.pkl\n",
      "proc_review_data_may22.pkl\n",
      "proc_review_data_may24_Movies_and_TV.pkl\n",
      "srid_justTestingEnvironment.ipynb\n",
      "\u001b[01;35mtest1.jpg\u001b[0m\n",
      "test1_NER-Copy.jsonl\n",
      "test1_NER_model_may28.jsonl\n",
      "\u001b[01;35mtest4.jpg\u001b[0m\n",
      "unique_brand_names_may28.pkl\n",
      "unique_category_names_may28.pkl\n",
      "unique_prod_names_may28.pkl\n",
      "yi_5_deploy_trained_NER_model.ipynb\n",
      "yi_dpp_1_preprocess_data-MovieTVmay24-Copy1.ipynb\n",
      "yi_dpp_1_preprocess_data-MovieTVmay24.ipynb\n",
      "yi_dwl_1_load_into_weeavite-Copy1.ipynb\n",
      "yi_upload_model_to_mlops_capstonebucket.ipynb\n"
     ]
    }
   ],
   "source": [
    "ls"
   ]
  },
  {
   "cell_type": "code",
   "execution_count": null,
   "id": "9d49a839-d000-4d9f-ba1c-812a1586e7a8",
   "metadata": {},
   "outputs": [],
   "source": []
  }
 ],
 "metadata": {
  "kernelspec": {
   "display_name": "Python 3",
   "language": "python",
   "name": "python3"
  },
  "language_info": {
   "codemirror_mode": {
    "name": "ipython",
    "version": 3
   },
   "file_extension": ".py",
   "mimetype": "text/x-python",
   "name": "python",
   "nbconvert_exporter": "python",
   "pygments_lexer": "ipython3",
   "version": "3.6.9"
  }
 },
 "nbformat": 4,
 "nbformat_minor": 5
}
