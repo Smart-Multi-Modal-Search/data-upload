{
 "cells": [
  {
   "cell_type": "markdown",
   "id": "78b26f7b-fa54-42ed-aa21-20d5d0b9b53f",
   "metadata": {},
   "source": [
    "This notebook downloads amazon review datasets,  pre-processes the data and stores the reuqired data (the fields we will be using) in pickle format.\n",
    "\n",
    "datasets used:  http://deepyeti.ucsd.edu/jianmo/amazon/index.html\n",
    "\n"
   ]
  },
  {
   "cell_type": "code",
   "execution_count": 1,
   "id": "9e259cf2-55fc-41c2-87da-5bba1a940a86",
   "metadata": {},
   "outputs": [],
   "source": [
    "import pandas as pd\n",
    "import gzip\n",
    "import json\n",
    "import pickle"
   ]
  },
  {
   "cell_type": "code",
   "execution_count": 2,
   "id": "d0cd89f1-f5e7-4e22-b6de-e15132885064",
   "metadata": {},
   "outputs": [
    {
     "name": "stdout",
     "output_type": "stream",
     "text": [
      "--2022-06-10 00:19:22--  http://deepyeti.ucsd.edu/jianmo/amazon/categoryFiles/Books.json.gz\n",
      "Resolving deepyeti.ucsd.edu (deepyeti.ucsd.edu)... 169.228.63.50\n",
      "Connecting to deepyeti.ucsd.edu (deepyeti.ucsd.edu)|169.228.63.50|:80... connected.\n",
      "HTTP request sent, awaiting response... 200 OK\n",
      "Length: 11813848069 (11G) [application/octet-stream]\n",
      "Saving to: ‘Books.json.gz’\n",
      "\n",
      "Books.json.gz       100%[===================>]  11.00G  50.5MB/s    in 3m 43s  \n",
      "\n",
      "2022-06-10 00:23:05 (50.6 MB/s) - ‘Books.json.gz’ saved [11813848069/11813848069]\n",
      "\n",
      "--2022-06-10 00:23:05--  http://deepyeti.ucsd.edu/jianmo/amazon/metaFiles2/meta_Books.json.gz\n",
      "Resolving deepyeti.ucsd.edu (deepyeti.ucsd.edu)... 169.228.63.50\n",
      "Connecting to deepyeti.ucsd.edu (deepyeti.ucsd.edu)|169.228.63.50|:80... connected.\n",
      "HTTP request sent, awaiting response... 200 OK\n",
      "Length: 1219104464 (1.1G) [application/octet-stream]\n",
      "Saving to: ‘meta_Books.json.gz’\n",
      "\n",
      "meta_Books.json.gz  100%[===================>]   1.13G  48.7MB/s    in 25s     \n",
      "\n",
      "2022-06-10 00:23:30 (47.3 MB/s) - ‘meta_Books.json.gz’ saved [1219104464/1219104464]\n",
      "\n"
     ]
    }
   ],
   "source": [
    "!wget http://deepyeti.ucsd.edu/jianmo/amazon/categoryFiles/Books.json.gz\n",
    "!wget http://deepyeti.ucsd.edu/jianmo/amazon/metaFiles2/meta_Books.json.gz\n"
   ]
  },
  {
   "cell_type": "code",
   "execution_count": 4,
   "id": "a2510923-450a-450b-b8b3-54b398be5ef0",
   "metadata": {},
   "outputs": [
    {
     "name": "stdout",
     "output_type": "stream",
     "text": [
      " num products in the processed data   738\n"
     ]
    }
   ],
   "source": [
    "# process product meta data and store it in a list of python dictionary\n",
    "# we can use the dictionary for loading direct into weaviate\n",
    "# (i.e., no need to use pandas dataframe - covert to dictionary later)\n",
    "\n",
    "prod_meta_data_list = [] # list of dictionaries (each dict - product meta data)\n",
    "\n",
    "with gzip.open('meta_Books.json.gz') as f:\n",
    "    for l in f:\n",
    "        # load each line in the input file\n",
    "        \n",
    "        row = json.loads(l.strip())\n",
    "        \n",
    "        # pre-processing getting rid of rows with bad data\n",
    "        if row['description'] ==[]:\n",
    "            continue\n",
    "        if (row['category'] ==\"\") or (row['category'] ==[]):\n",
    "            continue\n",
    "        if row['feature'] == []:\n",
    "            continue\n",
    "        if (row['title'] ==\"\") or (row['title'] ==[]):\n",
    "            continue\n",
    "        if not isinstance (row['asin'], str):\n",
    "            continue\n",
    "        # for price strip $ is any. there may still be\n",
    "        # problems because people may have put comma instead of\n",
    "        # period in price $ 2,40 instead of just 2.40\n",
    "        try:\n",
    "            rprice = float(row['price'].replace(\"$\",\"\").replace(\",\",\".\"))\n",
    "        except ValueError:\n",
    "            continue\n",
    "        \n",
    "        # since we are storing data in picke format, we can also store\n",
    "        # processed data in dictionary format (instead of pandas dataframe\n",
    "        # this helps with loading into weaviate\n",
    "        \n",
    "        prod_meta_dict = {\n",
    "            'asin' : row['asin'],\n",
    "            'title' : row ['title'],\n",
    "            'description' : row ['description'][0].replace(\"\\n\", \" \").replace(\"\\t\", \" \"),\n",
    "            'category' : row ['category'],\n",
    "            'mainCategory' : row['main_cat'],\n",
    "            'brand' : row ['brand'],\n",
    "            'feature' :  row ['feature'],\n",
    "            'price' : rprice\n",
    "          }    \n",
    "        prod_meta_data_list.append(prod_meta_dict)\n",
    "\n",
    "print (' num products in the processed data  ', len(prod_meta_data_list))\n",
    "    "
   ]
  },
  {
   "cell_type": "code",
   "execution_count": 5,
   "id": "44de2d43-7a14-4fbc-a9d8-acb6867f1c56",
   "metadata": {},
   "outputs": [],
   "source": [
    "# save data in a picke file\n",
    "\n",
    "prod_meta_fn = 'proc_prod_meta_data_june9_book.pkl'\n",
    "\n",
    "with open(prod_meta_fn, 'wb') as fhandle:\n",
    "    pickle.dump(prod_meta_data_list, fhandle, protocol=pickle.HIGHEST_PROTOCOL)"
   ]
  },
  {
   "cell_type": "code",
   "execution_count": null,
   "id": "e371cfa9-2248-4220-aedd-b77b02c6690e",
   "metadata": {},
   "outputs": [],
   "source": [
    "prod_review_list = []\n",
    "\n",
    "with gzip.open('Books.json.gz') as fp:\n",
    "    for lp in fp:\n",
    "        row = json.loads(lp.strip())\n",
    "\n",
    "        if ('summary' not in row.keys()) or ('reviewText' not in row.keys()):\n",
    "            continue \n",
    "        if (row['reviewText'] ==\"\") or (row['reviewText'] ==\" \"):\n",
    "            continue\n",
    "        if (row['summary'] ==\"\") or (row['summary'] ==\" \"):\n",
    "            continue\n",
    "        if (row['reviewerID'] ==\"\") or (row['reviewerID'] ==\" \"):\n",
    "            continue\n",
    "        if not isinstance (row['asin'], str):\n",
    "            continue\n",
    "        try:\n",
    "            r_overall = float(row['overall'])\n",
    "        except ValueError:\n",
    "            continue\n",
    "            \n",
    "        review_object = {\n",
    "            'reviewText' : row['reviewText'].replace(\"\\n\", \" \").replace(\"\\t\",\" \"),\n",
    "            'summary' : row ['summary'],\n",
    "            'overall' : r_overall,\n",
    "            'reviewerid' : row ['reviewerID'],\n",
    "            'reviwerName' : row.get('reviewerName', 'GENERIC'),\n",
    "            'productasin' : row['asin']\n",
    "          }  \n",
    "        \n",
    "        prod_review_list.append(review_object)\n",
    "              \n",
    "print (' num reviews in the processed data  ', len(prod_review_list))\n",
    " \n"
   ]
  },
  {
   "cell_type": "code",
   "execution_count": 6,
   "id": "85479605-25f0-4c52-9003-79918b787dcf",
   "metadata": {},
   "outputs": [],
   "source": [
    "import _pickle as cPickle"
   ]
  },
  {
   "cell_type": "code",
   "execution_count": 7,
   "id": "f9e72902-fc41-467f-8456-b8df5f3b4e0b",
   "metadata": {},
   "outputs": [],
   "source": [
    "import _pickle as pickle\n",
    "#import cPickle as pickle\n",
    "prod_review_fn = 'proc_review_data_june9_Books.pkl'\n",
    "p = pickle.Pickler(open(prod_review_fn,\"wb\")) \n",
    "p.fast = True \n",
    "p.dump(prod_review_list) "
   ]
  },
  {
   "cell_type": "code",
   "execution_count": 8,
   "id": "05dc40e5-d835-481c-beca-132c4a3c03b9",
   "metadata": {},
   "outputs": [],
   "source": [
    "\n",
    "prod_review_fn = 'proc_review_data_june9_Books.pkl'\n",
    "\n",
    "with open(prod_review_fn, 'wb') as fh:\n",
    "    pickle.dump(prod_review_list, fh)"
   ]
  },
  {
   "cell_type": "code",
   "execution_count": 9,
   "id": "8651e6d3-4ae6-4cff-ad04-628034f34e0c",
   "metadata": {},
   "outputs": [
    {
     "name": "stdout",
     "output_type": "stream",
     "text": [
      "finished\n"
     ]
    }
   ],
   "source": [
    "print(\"finished\")"
   ]
  },
  {
   "cell_type": "code",
   "execution_count": null,
   "id": "9b4e164d-d23a-45ef-b889-ca371db169e9",
   "metadata": {},
   "outputs": [],
   "source": []
  }
 ],
 "metadata": {
  "kernelspec": {
   "display_name": "Python 3",
   "language": "python",
   "name": "python3"
  },
  "language_info": {
   "codemirror_mode": {
    "name": "ipython",
    "version": 3
   },
   "file_extension": ".py",
   "mimetype": "text/x-python",
   "name": "python",
   "nbconvert_exporter": "python",
   "pygments_lexer": "ipython3",
   "version": "3.6.9"
  }
 },
 "nbformat": 4,
 "nbformat_minor": 5
}
