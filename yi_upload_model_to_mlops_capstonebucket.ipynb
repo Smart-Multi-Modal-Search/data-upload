{
 "cells": [
  {
   "cell_type": "code",
   "execution_count": 1,
   "id": "87f86669-6d5f-4cc2-97f1-93b1af2451f9",
   "metadata": {},
   "outputs": [
    {
     "name": "stdout",
     "output_type": "stream",
     "text": [
      "Defaulting to user installation because normal site-packages is not writeable\n",
      "Collecting google-cloud-storage\n",
      "  Downloading google_cloud_storage-2.0.0-py2.py3-none-any.whl (106 kB)\n",
      "     |████████████████████████████████| 106 kB 5.1 MB/s            \n",
      "\u001b[?25hCollecting google-auth<3.0dev,>=1.25.0\n",
      "  Downloading google_auth-2.6.6-py2.py3-none-any.whl (156 kB)\n",
      "     |████████████████████████████████| 156 kB 35.9 MB/s            \n",
      "\u001b[?25hCollecting google-api-core<3.0dev,>=1.29.0\n",
      "  Downloading google_api_core-2.8.1-py3-none-any.whl (114 kB)\n",
      "     |████████████████████████████████| 114 kB 71.4 MB/s            \n",
      "\u001b[?25hCollecting protobuf\n",
      "  Downloading protobuf-3.19.4-cp36-cp36m-manylinux_2_17_x86_64.manylinux2014_x86_64.whl (1.1 MB)\n",
      "     |████████████████████████████████| 1.1 MB 70.9 MB/s            \n",
      "\u001b[?25hCollecting google-resumable-media>=1.3.0\n",
      "  Downloading google_resumable_media-2.3.3-py2.py3-none-any.whl (76 kB)\n",
      "     |████████████████████████████████| 76 kB 8.1 MB/s             \n",
      "\u001b[?25hCollecting google-cloud-core<3.0dev,>=1.6.0\n",
      "  Downloading google_cloud_core-2.3.0-py2.py3-none-any.whl (29 kB)\n",
      "Requirement already satisfied: requests<3.0.0dev,>=2.18.0 in /home/sridiyer/.local/lib/python3.6/site-packages (from google-cloud-storage) (2.27.1)\n",
      "Collecting googleapis-common-protos<2.0dev,>=1.56.2\n",
      "  Downloading googleapis_common_protos-1.56.2-py2.py3-none-any.whl (211 kB)\n",
      "     |████████████████████████████████| 211 kB 85.6 MB/s            \n",
      "\u001b[?25hRequirement already satisfied: six>=1.9.0 in /home/sridiyer/.local/lib/python3.6/site-packages (from google-auth<3.0dev,>=1.25.0->google-cloud-storage) (1.16.0)\n",
      "Requirement already satisfied: pyasn1-modules>=0.2.1 in /usr/lib/python3/dist-packages (from google-auth<3.0dev,>=1.25.0->google-cloud-storage) (0.2.1)\n",
      "Collecting cachetools<6.0,>=2.0.0\n",
      "  Downloading cachetools-4.2.4-py3-none-any.whl (10 kB)\n",
      "Collecting rsa<5,>=3.1.4\n",
      "  Downloading rsa-4.8-py3-none-any.whl (39 kB)\n",
      "Collecting google-crc32c<2.0dev,>=1.0\n",
      "  Downloading google_crc32c-1.3.0-cp36-cp36m-manylinux_2_12_x86_64.manylinux2010_x86_64.whl (37 kB)\n",
      "Requirement already satisfied: idna<4,>=2.5 in /home/sridiyer/.local/lib/python3.6/site-packages (from requests<3.0.0dev,>=2.18.0->google-cloud-storage) (3.3)\n",
      "Requirement already satisfied: urllib3<1.27,>=1.21.1 in /home/sridiyer/.local/lib/python3.6/site-packages (from requests<3.0.0dev,>=2.18.0->google-cloud-storage) (1.26.9)\n",
      "Requirement already satisfied: charset-normalizer~=2.0.0 in /home/sridiyer/.local/lib/python3.6/site-packages (from requests<3.0.0dev,>=2.18.0->google-cloud-storage) (2.0.12)\n",
      "Requirement already satisfied: certifi>=2017.4.17 in /home/sridiyer/.local/lib/python3.6/site-packages (from requests<3.0.0dev,>=2.18.0->google-cloud-storage) (2022.5.18.1)\n",
      "Requirement already satisfied: pyasn1>=0.1.3 in /usr/lib/python3/dist-packages (from rsa<5,>=3.1.4->google-auth<3.0dev,>=1.25.0->google-cloud-storage) (0.4.2)\n",
      "Installing collected packages: rsa, protobuf, cachetools, googleapis-common-protos, google-auth, google-crc32c, google-api-core, google-resumable-media, google-cloud-core, google-cloud-storage\n",
      "Successfully installed cachetools-4.2.4 google-api-core-2.8.1 google-auth-2.6.6 google-cloud-core-2.3.0 google-cloud-storage-2.0.0 google-crc32c-1.3.0 google-resumable-media-2.3.3 googleapis-common-protos-1.56.2 protobuf-3.19.4 rsa-4.8\n",
      "Note: you may need to restart the kernel to use updated packages.\n"
     ]
    }
   ],
   "source": [
    "pip install --upgrade google-cloud-storage"
   ]
  },
  {
   "cell_type": "code",
   "execution_count": null,
   "id": "001bcdc9-231d-463e-bd57-3d7838174c70",
   "metadata": {},
   "outputs": [],
   "source": [
    "\n",
    "\n"
   ]
  },
  {
   "cell_type": "code",
   "execution_count": 4,
   "id": "80f74d77-5820-4784-94ee-2237f63f2aaa",
   "metadata": {},
   "outputs": [],
   "source": [
    "from google.cloud.storage import Client\n",
    "def gcp_client():\n",
    "    credentials = 'gcp_config/gcp-service-account-file.json'\n",
    "    return Client.from_service_account_json(json_credentials_path=credentials)\n",
    "\n",
    "\n",
    "def upload_blob(bucket_name: str, source_file_name: str, destination_blob_name: str):\n",
    "    \"\"\"Uploads a file to the google storage bucket.\"\"\" \n",
    "    \n",
    "    storage_client = gcp_client()\n",
    "    bucket = storage_client.bucket(bucket_name)\n",
    "    blob = bucket.blob(destination_blob_name)\n",
    " \n",
    "    blob.upload_from_filename(source_file_name)\n",
    " \n",
    "    print(f\"{source_file_name} uploaded to Storage Bucket with blob name {destination_blob_name} successfully.\")\n",
    "\n",
    "\n",
    "def download_blob(bucket_name: str, source_blob_name: str, destination_file_name: str):\n",
    "    \"\"\"Downloads a blob.\"\"\"\n",
    " \n",
    "    storage_client = gcp_client()\n",
    "    bucket = storage_client.bucket(bucket_name)\n",
    "    blob = bucket.blob(source_blob_name)\n",
    "    blob.download_to_filename(destination_file_name)\n",
    " \n",
    "    print(f\"{source_blob_name} downloaded to file path {destination_file_name} successfully\")"
   ]
  },
  {
   "cell_type": "code",
   "execution_count": 5,
   "id": "d08c0cb5-47a0-4e2f-a31a-0595d32ec99f",
   "metadata": {},
   "outputs": [
    {
     "name": "stdout",
     "output_type": "stream",
     "text": [
      "test1_NER-Copy.jsonl uploaded to Storage Bucket with blob name test/ner_model.jsonl successfully.\n"
     ]
    }
   ],
   "source": [
    "upload_blob('mlops_vectorweaviate_capstone', 'test1_NER-Copy.jsonl','test/ner_model.jsonl')"
   ]
  },
  {
   "cell_type": "code",
   "execution_count": null,
   "id": "2211e5e3-512d-48c1-9c6a-9b7a7990b584",
   "metadata": {},
   "outputs": [],
   "source": []
  }
 ],
 "metadata": {
  "kernelspec": {
   "display_name": "Python 3",
   "language": "python",
   "name": "python3"
  },
  "language_info": {
   "codemirror_mode": {
    "name": "ipython",
    "version": 3
   },
   "file_extension": ".py",
   "mimetype": "text/x-python",
   "name": "python",
   "nbconvert_exporter": "python",
   "pygments_lexer": "ipython3",
   "version": "3.6.9"
  }
 },
 "nbformat": 4,
 "nbformat_minor": 5
}
